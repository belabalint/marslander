{
 "cells": [
  {
   "cell_type": "code",
   "execution_count": 2,
   "metadata": {},
   "outputs": [],
   "source": [
    "import gymnasium as gym\n",
    "import math\n",
    "import torch\n",
    "import tqdm\n",
    "from gymnasium import wrappers\n",
    "from torch.optim import SGD\n",
    "from torch.nn import Linear, Softmax, Sequential, ReLU"
   ]
  },
  {
   "cell_type": "code",
   "execution_count": 3,
   "metadata": {},
   "outputs": [],
   "source": [
    "model = Sequential(\n",
    "    Linear(8, 128),\n",
    "    ReLU(),\n",
    "    Linear(128,128),\n",
    "    ReLU(),\n",
    "    Linear(128, 16),\n",
    "    ReLU(),\n",
    "    Linear(16,4),\n",
    "    Softmax(dim=0)  # Ensure softmax is applied along the correct dimension\n",
    ")\n",
    "#model = model.to(\"cuda\")\n",
    "\n",
    "\n",
    "def policy(observation, model):\n",
    "    input = torch.tensor(observation, dtype=torch.float32)  # Explicitly set dtype\n",
    "    action_probabilities = model(input)\n",
    "    p = action_probabilities.cumsum(0)\n",
    "    idx = torch.searchsorted(p, torch.rand(1))\n",
    "    return idx.item()  # Simplify to return the scalar value\n",
    "\n",
    "def loss_function(observation, desired_probability_output, model):\n",
    "    f_x = model(observation)\n",
    "    return torch.mean((desired_probability_output - f_x) ** 2)  # Use torch.mean for average loss\n"
   ]
  },
  {
   "cell_type": "code",
   "execution_count": 4,
   "metadata": {},
   "outputs": [],
   "source": [
    "env = gym.make(\"LunarLander-v2\")\n",
    "observation, info = env.reset(seed=42)\n",
    "optimizer = SGD(model.parameters(), lr=0.03)"
   ]
  },
  {
   "cell_type": "code",
   "execution_count": 5,
   "metadata": {},
   "outputs": [
    {
     "name": "stderr",
     "output_type": "stream",
     "text": [
      "100%|██████████| 10000/10000 [01:04<00:00, 154.81it/s]\n"
     ]
    }
   ],
   "source": [
    "for i in tqdm.trange(10000):\n",
    "    recent_rewards_array = []\n",
    "\n",
    "    for j in range(10):\n",
    "        action = policy(observation, model)\n",
    "        #action = 0\n",
    "        observation, reward, terminated, truncated, info = env.step(action)\n",
    "        recent_rewards_array.append([observation, action, reward])\n",
    "\n",
    "        if terminated or truncated:\n",
    "            observation, info = env.reset()\n",
    "\n",
    "\n",
    "    n=3\n",
    "    reward_values = [entry[2] for entry in recent_rewards_array]  # Extract reward values\n",
    "\n",
    "    # Find the indices of the top 3 rewards using argsort\n",
    "    top_n_indexes = torch.argsort(torch.tensor(reward_values), descending=True)[:n]\n",
    "\n",
    "    best_observations = [recent_rewards_array[j][0] for j in top_n_indexes]\n",
    "    best_actions = [recent_rewards_array[j][1] for j in top_n_indexes]\n",
    "\n",
    "    #finding worst n actions\n",
    "    worst_n_indexes = torch.argsort(torch.tensor(reward_values), descending=False)[:n]\n",
    "\n",
    "    worst_observations = [recent_rewards_array[j][0] for j in worst_n_indexes]\n",
    "    worst_actions = [recent_rewards_array[j][1] for j in worst_n_indexes]\n",
    "\n",
    "    #training on the best n moves\n",
    "    for j in range(n):\n",
    "        desired_prob_dist = torch.tensor([0 for _ in range(4)])\n",
    "        desired_prob_dist[best_actions[j]] = 1\n",
    "        loss = loss_function(torch.tensor(best_observations[j], dtype=torch.float32),\n",
    "                             desired_prob_dist, model)\n",
    "        optimizer.zero_grad()\n",
    "        loss.backward()\n",
    "        optimizer.step()\n",
    "    #training on the worst n moves\n",
    "    for j in range(n):\n",
    "        desired_prob_dist = torch.tensor([1/3 for _ in range(4)])\n",
    "        desired_prob_dist[worst_actions[j]] = 0\n",
    "        loss = loss_function(torch.tensor(best_observations[j], dtype=torch.float32),\n",
    "                             desired_prob_dist, model)\n",
    "        optimizer.zero_grad()\n",
    "        loss.backward()\n",
    "        optimizer.step()\n",
    "    \n",
    "env.close()"
   ]
  },
  {
   "cell_type": "code",
   "execution_count": 6,
   "metadata": {},
   "outputs": [],
   "source": [
    "env = gym.make(\"LunarLander-v2\", render_mode=\"human\")\n",
    "observation, info = env.reset(seed=42)\n",
    "\n",
    "for _ in range(800):\n",
    "   #action = policy(observation, model)  # this is where you would insert your policy\n",
    "   action = policy(observation, model)\n",
    "   observation, reward, terminated, truncated, info = env.step(action)\n",
    "\n",
    "   if terminated or truncated:\n",
    "      observation, info = env.reset()\n",
    "\n",
    "env.close()"
   ]
  }
 ],
 "metadata": {
  "kernelspec": {
   "display_name": "Python 3",
   "language": "python",
   "name": "python3"
  },
  "language_info": {
   "codemirror_mode": {
    "name": "ipython",
    "version": 3
   },
   "file_extension": ".py",
   "mimetype": "text/x-python",
   "name": "python",
   "nbconvert_exporter": "python",
   "pygments_lexer": "ipython3",
   "version": "3.9.7"
  },
  "orig_nbformat": 4
 },
 "nbformat": 4,
 "nbformat_minor": 2
}
